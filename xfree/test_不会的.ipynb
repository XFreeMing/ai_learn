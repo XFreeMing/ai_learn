{
 "cells": [
  {
   "cell_type": "code",
   "execution_count": 1,
   "metadata": {
    "ExecuteTime": {
     "end_time": "2024-06-04T07:57:52.309178Z",
     "start_time": "2024-06-04T07:57:50.835383Z"
    },
    "tags": []
   },
   "outputs": [
    {
     "name": "stdout",
     "output_type": "stream",
     "text": [
      "Linear(in_features=5, out_features=3, bias=True)\n"
     ]
    }
   ],
   "source": [
    "import torch\n",
    "import torch.nn as nn\n",
    "import unittest\n",
    "def test_linear():\n",
    "    input_dim = 5\n",
    "    output_dim = 3\n",
    "    linear_layer = nn.Linear(input_dim, output_dim)\n",
    "    print(linear_layer)\n",
    "    \n",
    "\n",
    "    # Create a random tensor of size (10, input_dim)\n",
    "    x = torch.randn(10, input_dim)\n",
    "    y = linear_layer(x)\n",
    "\n",
    "    # Check the output size\n",
    "    \n",
    "test_linear()"
   ]
  },
  {
   "cell_type": "code",
   "execution_count": 4,
   "metadata": {
    "ExecuteTime": {
     "end_time": "2024-06-04T08:00:22.261988Z",
     "start_time": "2024-06-04T08:00:22.240944Z"
    }
   },
   "outputs": [
    {
     "name": "stdout",
     "output_type": "stream",
     "text": [
      "Parameter containing:\n",
      "tensor([[-0.0106,  0.3449, -0.5390],\n",
      "        [ 0.3376,  0.5771,  0.2172],\n",
      "        [ 0.1432, -0.1319, -0.0879]], requires_grad=True)\n",
      "Parameter containing:\n",
      "tensor([-0.1779,  0.0921,  0.5387], requires_grad=True)\n",
      "tensor([[-3.1562e-01, -9.0603e-01,  6.1252e-01],\n",
      "        [-7.2684e-01, -1.5994e+00,  4.7090e-01],\n",
      "        [-2.2453e-01,  1.1972e+00,  4.1152e-01],\n",
      "        [ 2.0901e-01, -5.8422e-01,  5.5452e-01],\n",
      "        [-4.7107e-01,  7.2229e-01,  4.8962e-01],\n",
      "        [-8.1798e-02, -4.4478e-04,  7.3494e-01],\n",
      "        [-1.1740e+00, -6.8174e-01,  3.9157e-01],\n",
      "        [-8.0405e-01,  2.7128e-01,  7.2960e-01],\n",
      "        [ 1.9354e-01,  2.6051e-01,  4.6583e-01],\n",
      "        [ 5.7919e-02,  6.6417e-01,  4.7802e-01]], grad_fn=<AddmmBackward0>)\n"
     ]
    }
   ],
   "source": [
    "# torch.manual_seed(1) # Set the seed for reproducibility\n",
    "input_tensor = torch.randn(10, 3)\n",
    "model = nn.Linear(3, 3)\n",
    "print(model.weight)\n",
    "print(model.bias)\n",
    "\n",
    "output_tensor = model(input_tensor)\n",
    "\n",
    "print(output_tensor)\n",
    "torch.save(model.state_dict(), 'model_parameters.pth')\n"
   ]
  },
  {
   "cell_type": "code",
   "execution_count": 3,
   "metadata": {
    "ExecuteTime": {
     "end_time": "2024-06-04T07:58:02.521442Z",
     "start_time": "2024-06-04T07:58:02.067369Z"
    }
   },
   "outputs": [
    {
     "name": "stdout",
     "output_type": "stream",
     "text": [
      "Weights DataFrame:\n"
     ]
    },
    {
     "data": {
      "text/html": [
       "<div>\n",
       "<style scoped>\n",
       "    .dataframe tbody tr th:only-of-type {\n",
       "        vertical-align: middle;\n",
       "    }\n",
       "\n",
       "    .dataframe tbody tr th {\n",
       "        vertical-align: top;\n",
       "    }\n",
       "\n",
       "    .dataframe thead th {\n",
       "        text-align: right;\n",
       "    }\n",
       "</style>\n",
       "<table border=\"1\" class=\"dataframe\">\n",
       "  <thead>\n",
       "    <tr style=\"text-align: right;\">\n",
       "      <th></th>\n",
       "      <th>param</th>\n",
       "    </tr>\n",
       "  </thead>\n",
       "  <tbody>\n",
       "    <tr>\n",
       "      <th>0</th>\n",
       "      <td>-0.379857</td>\n",
       "    </tr>\n",
       "    <tr>\n",
       "      <th>1</th>\n",
       "      <td>0.030739</td>\n",
       "    </tr>\n",
       "    <tr>\n",
       "      <th>2</th>\n",
       "      <td>-0.391841</td>\n",
       "    </tr>\n",
       "    <tr>\n",
       "      <th>3</th>\n",
       "      <td>-0.266946</td>\n",
       "    </tr>\n",
       "    <tr>\n",
       "      <th>4</th>\n",
       "      <td>0.093137</td>\n",
       "    </tr>\n",
       "  </tbody>\n",
       "</table>\n",
       "</div>"
      ],
      "text/plain": [
       "      param\n",
       "0 -0.379857\n",
       "1  0.030739\n",
       "2 -0.391841\n",
       "3 -0.266946\n",
       "4  0.093137"
      ]
     },
     "metadata": {},
     "output_type": "display_data"
    },
    {
     "name": "stdout",
     "output_type": "stream",
     "text": [
      "Biases DataFrame:\n"
     ]
    },
    {
     "data": {
      "text/html": [
       "<div>\n",
       "<style scoped>\n",
       "    .dataframe tbody tr th:only-of-type {\n",
       "        vertical-align: middle;\n",
       "    }\n",
       "\n",
       "    .dataframe tbody tr th {\n",
       "        vertical-align: top;\n",
       "    }\n",
       "\n",
       "    .dataframe thead th {\n",
       "        text-align: right;\n",
       "    }\n",
       "</style>\n",
       "<table border=\"1\" class=\"dataframe\">\n",
       "  <thead>\n",
       "    <tr style=\"text-align: right;\">\n",
       "      <th></th>\n",
       "      <th>param</th>\n",
       "    </tr>\n",
       "  </thead>\n",
       "  <tbody>\n",
       "    <tr>\n",
       "      <th>0</th>\n",
       "      <td>-0.323985</td>\n",
       "    </tr>\n",
       "    <tr>\n",
       "      <th>1</th>\n",
       "      <td>-0.202420</td>\n",
       "    </tr>\n",
       "    <tr>\n",
       "      <th>2</th>\n",
       "      <td>0.246992</td>\n",
       "    </tr>\n",
       "  </tbody>\n",
       "</table>\n",
       "</div>"
      ],
      "text/plain": [
       "      param\n",
       "0 -0.323985\n",
       "1 -0.202420\n",
       "2  0.246992"
      ]
     },
     "metadata": {},
     "output_type": "display_data"
    }
   ],
   "source": [
    "import torch\n",
    "import pandas as pd\n",
    "model_state_dict = torch.load('model_parameters.pth')\n",
    "# 将参数转换为 pandas DataFrame\n",
    "# 将权重和偏置分别转换为 pandas DataFrame\n",
    "weights_data = {\"param\": model_state_dict[param_tensor].numpy() for param_tensor in model_state_dict if 'weight' in param_tensor}\n",
    "biases_data = {\"param\": model_state_dict[param_tensor].numpy() for param_tensor in model_state_dict if 'bias' in param_tensor}\n",
    "\n",
    "weights_df = pd.DataFrame({k: v.flatten() for k, v in weights_data.items()})\n",
    "biases_df = pd.DataFrame({k: v.flatten() for k, v in biases_data.items()})\n",
    "\n",
    "# 查看权重表格\n",
    "print(\"Weights DataFrame:\")\n",
    "display(weights_df.head())\n",
    "\n",
    "# 查看偏置表格\n",
    "print(\"Biases DataFrame:\")\n",
    "display(biases_df.head())"
   ]
  },
  {
   "cell_type": "code",
   "execution_count": 2,
   "metadata": {},
   "outputs": [
    {
     "name": "stdout",
     "output_type": "stream",
     "text": [
      "Original matrix:\n",
      "tensor([[1, 2, 3],\n",
      "        [4, 5, 6]])\n",
      "\n",
      "Transposed matrix:\n",
      "tensor([[1, 4],\n",
      "        [2, 5],\n",
      "        [3, 6]])\n"
     ]
    }
   ],
   "source": [
    "import torch\n",
    "\n",
    "x = torch.tensor([[1, 2, 3], [4, 5, 6]])\n",
    "print(\"Original matrix:\")\n",
    "print(x)\n",
    "\n",
    "# 转置矩阵\n",
    "x_transposed = x.transpose(0, 1)\n",
    "print(\"\\nTransposed matrix:\")\n",
    "print(x_transposed)"
   ]
  },
  {
   "cell_type": "code",
   "execution_count": 24,
   "metadata": {},
   "outputs": [
    {
     "name": "stdout",
     "output_type": "stream",
     "text": [
      "Original embeddings tensor:\n",
      "tensor([[[ 1.2070,  0.1724, -1.4187,  1.0755],\n",
      "         [ 0.2303,  0.1073,  0.2291,  0.2149]]])\n",
      "torch.Size([1, 2, 4])\n",
      "Scalar: torch.Size([])\n",
      "Vector: tensor([1, 2, 3])\n",
      "Vector: torch.Size([3])\n",
      "Vector: tensor([[-0.4925, -2.2336, -0.4271],\n",
      "        [-2.1664, -0.8761, -0.9369]])\n",
      "Vector: torch.Size([2, 3])\n"
     ]
    }
   ],
   "source": [
    "import torch\n",
    "embeddings = torch.randn(1, 2, 4)  # 64 个句子，每个句子 100 个词，每个词嵌入到 300 维向量\n",
    "print(\"Original embeddings tensor:\")\n",
    "print(embeddings)\n",
    "print(embeddings.shape)\n",
    "\n",
    "scalar = torch.tensor(5)\n",
    "print(f'Scalar: {scalar.shape}')\n",
    "vector = torch.tensor([1, 2, 3])\n",
    "print(f'Vector: {vector}')\n",
    "print(f'Vector: {vector.shape}')\n",
    "vector = torch.randn(2,3)\n",
    "print(f'Vector: {vector}')\n",
    "print(f'Vector: {vector.shape}')\n",
    "\n",
    "\n"
   ]
  },
  {
   "cell_type": "code",
   "execution_count": 37,
   "metadata": {},
   "outputs": [
    {
     "name": "stdout",
     "output_type": "stream",
     "text": [
      "torch.Size([1, 2, 4])\n",
      "tensor([[[1.1000, 1.2000, 1.3000, 1.4000],\n",
      "         [2.1000, 2.2000, 2.3000, 2.4000]]])\n",
      "torch.Size([1, 4, 2])\n",
      "tensor([[[1.1000, 2.1000],\n",
      "         [1.2000, 2.2000],\n",
      "         [1.3000, 2.3000],\n",
      "         [1.4000, 2.4000]]])\n"
     ]
    }
   ],
   "source": [
    "import torch\n",
    "\n",
    "tensor_3d = torch.tensor([\n",
    "    [\n",
    "        [1.1, 1.2, 1.3, 1.4],\n",
    "        [2.1, 2.2, 2.3, 2.4]\n",
    "    ]\n",
    "])\n",
    "print(tensor_3d.shape)\n",
    "print(tensor_3d)\n",
    "tran = tensor_3d.transpose(1,2)\n",
    "print(tran.shape)\n",
    "print(tran)\n"
   ]
  },
  {
   "cell_type": "code",
   "execution_count": 23,
   "metadata": {},
   "outputs": [
    {
     "name": "stdout",
     "output_type": "stream",
     "text": [
      "query: torch.Size([2, 2, 8])\n",
      "tensor([[[ 0.8065, -0.3399, -1.1084,  0.5254,  1.8009, -1.2985,  0.3069,\n",
      "          -1.0716],\n",
      "         [ 0.0094, -0.8840, -0.2189, -0.4710,  0.2439, -0.7708,  0.3005,\n",
      "           0.8937]],\n",
      "\n",
      "        [[-0.2834, -0.3945, -1.9882, -0.4478,  1.2018,  1.3639, -0.6422,\n",
      "          -0.3573],\n",
      "         [ 0.1019, -0.8515, -0.7394,  0.6198, -0.1174, -1.2281,  0.5674,\n",
      "          -0.9628]]])\n",
      "query: torch.Size([2, 2, 8])\n",
      "tensor([[[ 4.9903e-01, -1.2263e+00, -2.2188e-01,  7.1285e-01,  1.0389e+00,\n",
      "           1.8268e+00, -4.6535e-01,  2.6636e-02],\n",
      "         [ 6.4055e-01, -1.0461e-01, -2.9584e-01, -2.0339e-01,  5.7679e-01,\n",
      "          -9.4181e-04, -1.5837e-01,  2.7724e-01]],\n",
      "\n",
      "        [[-5.1174e-01, -7.1982e-01, -3.8112e-01,  1.2352e+00, -9.3439e-02,\n",
      "           7.8247e-01, -2.3243e-01,  3.0152e-01],\n",
      "         [ 3.5904e-01, -4.7988e-01,  3.9127e-02, -2.1624e-01,  6.7701e-01,\n",
      "           9.3799e-01,  8.8460e-02,  1.4140e-01]]], grad_fn=<ViewBackward0>)\n",
      "tensor([[[[ 4.9903e-01],\n",
      "          [ 6.4055e-01]],\n",
      "\n",
      "         [[-1.2263e+00],\n",
      "          [-1.0461e-01]],\n",
      "\n",
      "         [[-2.2188e-01],\n",
      "          [-2.9584e-01]],\n",
      "\n",
      "         [[ 7.1285e-01],\n",
      "          [-2.0339e-01]],\n",
      "\n",
      "         [[ 1.0389e+00],\n",
      "          [ 5.7679e-01]],\n",
      "\n",
      "         [[ 1.8268e+00],\n",
      "          [-9.4181e-04]],\n",
      "\n",
      "         [[-4.6535e-01],\n",
      "          [-1.5837e-01]],\n",
      "\n",
      "         [[ 2.6636e-02],\n",
      "          [ 2.7724e-01]]],\n",
      "\n",
      "\n",
      "        [[[-5.1174e-01],\n",
      "          [ 3.5904e-01]],\n",
      "\n",
      "         [[-7.1982e-01],\n",
      "          [-4.7988e-01]],\n",
      "\n",
      "         [[-3.8112e-01],\n",
      "          [ 3.9127e-02]],\n",
      "\n",
      "         [[ 1.2352e+00],\n",
      "          [-2.1624e-01]],\n",
      "\n",
      "         [[-9.3439e-02],\n",
      "          [ 6.7701e-01]],\n",
      "\n",
      "         [[ 7.8247e-01],\n",
      "          [ 9.3799e-01]],\n",
      "\n",
      "         [[-2.3243e-01],\n",
      "          [ 8.8460e-02]],\n",
      "\n",
      "         [[ 3.0152e-01],\n",
      "          [ 1.4140e-01]]]], grad_fn=<TransposeBackward0>)\n"
     ]
    }
   ],
   "source": [
    "import torch\n",
    "import torch.nn as nn\n",
    "\n",
    "class MultiHeadAttention(nn.Module):\n",
    "    def __init__(self, d_model, head):\n",
    "        super(MultiHeadAttention, self).__init__()\n",
    "        self.d_model = d_model\n",
    "        self.head = head\n",
    "        self.d_k = d_model // head\n",
    "        self.linear_query = nn.Linear(d_model, d_model)\n",
    "\n",
    "    def forward(self, query):\n",
    "        n_batch = query.size(0)\n",
    "        \n",
    "        # 线性变换并调整形状\n",
    "        query = self.linear_query(query)\n",
    "        print(f'query: {query.shape}')\n",
    "        print(query)\n",
    "        query = query.view(n_batch, -1, self.head, self.d_k).transpose(1, 2)\n",
    "        \n",
    "        return query\n",
    "\n",
    "# 示例输入\n",
    "d_model = 8\n",
    "head = 8\n",
    "seq_len = 2\n",
    "n_batch = 2\n",
    "\n",
    "query = torch.randn(n_batch, seq_len, d_model)\n",
    "print(f'query: {query.shape}')\n",
    "print(query)\n",
    "attention_layer = MultiHeadAttention(d_model, head)\n",
    "\n",
    "# 计算查询向量\n",
    "query_transformed = attention_layer(query)\n",
    "print(query_transformed)  # 输出形状：torch.Size([32, 8, 10, 64])\n"
   ]
  }
 ],
 "metadata": {
  "kernelspec": {
   "display_name": "Python 3 (ipykernel)",
   "language": "python",
   "name": "python3"
  },
  "language_info": {
   "codemirror_mode": {
    "name": "ipython",
    "version": 3
   },
   "file_extension": ".py",
   "mimetype": "text/x-python",
   "name": "python",
   "nbconvert_exporter": "python",
   "pygments_lexer": "ipython3",
   "version": "3.10.14"
  }
 },
 "nbformat": 4,
 "nbformat_minor": 4
}
