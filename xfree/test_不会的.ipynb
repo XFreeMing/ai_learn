{
 "cells": [
  {
   "cell_type": "code",
   "execution_count": 2,
   "metadata": {},
   "outputs": [
    {
     "name": "stdout",
     "output_type": "stream",
     "text": [
      "Linear(in_features=5, out_features=3, bias=True)\n"
     ]
    }
   ],
   "source": [
    "import torch\n",
    "import torch.nn as nn\n",
    "import unittest\n",
    "def test_linear():\n",
    "    input_dim = 5\n",
    "    output_dim = 3\n",
    "    linear_layer = nn.Linear(input_dim, output_dim)\n",
    "    print(linear_layer)\n",
    "    \n",
    "\n",
    "    # Create a random tensor of size (10, input_dim)\n",
    "    x = torch.randn(10, input_dim)\n",
    "    y = linear_layer(x)\n",
    "\n",
    "    # Check the output size\n",
    "    \n",
    "test_linear()"
   ]
  },
  {
   "cell_type": "code",
   "execution_count": 31,
   "metadata": {},
   "outputs": [
    {
     "name": "stdout",
     "output_type": "stream",
     "text": [
      "Parameter containing:\n",
      "tensor([[-0.1291,  0.4065, -0.1172],\n",
      "        [ 0.5210,  0.4544, -0.2069],\n",
      "        [ 0.0207, -0.2521, -0.2335]], requires_grad=True)\n",
      "Parameter containing:\n",
      "tensor([-0.1169, -0.0039, -0.2013], requires_grad=True)\n",
      "tensor([[ 0.4568,  0.5242, -0.2667],\n",
      "        [-0.2656,  0.7965, -0.0910],\n",
      "        [ 0.9250,  0.9598, -0.2066],\n",
      "        [ 0.3152,  0.0433,  0.1815],\n",
      "        [-0.2664, -1.1922, -0.3716],\n",
      "        [-0.3210, -0.5586,  0.1395],\n",
      "        [-1.0068, -0.4379,  0.0925],\n",
      "        [-0.4052,  0.8033,  0.1362],\n",
      "        [ 0.5862,  0.5748, -0.2996],\n",
      "        [-0.5401, -1.0316,  0.1651]], grad_fn=<AddmmBackward0>)\n"
     ]
    }
   ],
   "source": [
    "# torch.manual_seed(1) # Set the seed for reproducibility\n",
    "input_tensor = torch.randn(10, 3)\n",
    "model = nn.Linear(3, 3)\n",
    "print(model.weight)\n",
    "print(model.bias)\n",
    "\n",
    "output_tensor = model(input_tensor)\n",
    "\n",
    "print(output_tensor)\n",
    "torch.save(model.state_dict(), 'model_parameters.pth')\n"
   ]
  },
  {
   "cell_type": "code",
   "execution_count": 34,
   "metadata": {},
   "outputs": [
    {
     "name": "stdout",
     "output_type": "stream",
     "text": [
      "Weights DataFrame:\n"
     ]
    },
    {
     "data": {
      "text/html": [
       "<div>\n",
       "<style scoped>\n",
       "    .dataframe tbody tr th:only-of-type {\n",
       "        vertical-align: middle;\n",
       "    }\n",
       "\n",
       "    .dataframe tbody tr th {\n",
       "        vertical-align: top;\n",
       "    }\n",
       "\n",
       "    .dataframe thead th {\n",
       "        text-align: right;\n",
       "    }\n",
       "</style>\n",
       "<table border=\"1\" class=\"dataframe\">\n",
       "  <thead>\n",
       "    <tr style=\"text-align: right;\">\n",
       "      <th></th>\n",
       "      <th>param</th>\n",
       "    </tr>\n",
       "  </thead>\n",
       "  <tbody>\n",
       "    <tr>\n",
       "      <th>0</th>\n",
       "      <td>-0.129126</td>\n",
       "    </tr>\n",
       "    <tr>\n",
       "      <th>1</th>\n",
       "      <td>0.406513</td>\n",
       "    </tr>\n",
       "    <tr>\n",
       "      <th>2</th>\n",
       "      <td>-0.117249</td>\n",
       "    </tr>\n",
       "    <tr>\n",
       "      <th>3</th>\n",
       "      <td>0.521018</td>\n",
       "    </tr>\n",
       "    <tr>\n",
       "      <th>4</th>\n",
       "      <td>0.454430</td>\n",
       "    </tr>\n",
       "  </tbody>\n",
       "</table>\n",
       "</div>"
      ],
      "text/plain": [
       "      param\n",
       "0 -0.129126\n",
       "1  0.406513\n",
       "2 -0.117249\n",
       "3  0.521018\n",
       "4  0.454430"
      ]
     },
     "metadata": {},
     "output_type": "display_data"
    },
    {
     "name": "stdout",
     "output_type": "stream",
     "text": [
      "Biases DataFrame:\n"
     ]
    },
    {
     "data": {
      "text/html": [
       "<div>\n",
       "<style scoped>\n",
       "    .dataframe tbody tr th:only-of-type {\n",
       "        vertical-align: middle;\n",
       "    }\n",
       "\n",
       "    .dataframe tbody tr th {\n",
       "        vertical-align: top;\n",
       "    }\n",
       "\n",
       "    .dataframe thead th {\n",
       "        text-align: right;\n",
       "    }\n",
       "</style>\n",
       "<table border=\"1\" class=\"dataframe\">\n",
       "  <thead>\n",
       "    <tr style=\"text-align: right;\">\n",
       "      <th></th>\n",
       "      <th>param</th>\n",
       "    </tr>\n",
       "  </thead>\n",
       "  <tbody>\n",
       "    <tr>\n",
       "      <th>0</th>\n",
       "      <td>-0.116895</td>\n",
       "    </tr>\n",
       "    <tr>\n",
       "      <th>1</th>\n",
       "      <td>-0.003936</td>\n",
       "    </tr>\n",
       "    <tr>\n",
       "      <th>2</th>\n",
       "      <td>-0.201260</td>\n",
       "    </tr>\n",
       "  </tbody>\n",
       "</table>\n",
       "</div>"
      ],
      "text/plain": [
       "      param\n",
       "0 -0.116895\n",
       "1 -0.003936\n",
       "2 -0.201260"
      ]
     },
     "metadata": {},
     "output_type": "display_data"
    }
   ],
   "source": [
    "import torch\n",
    "import pandas as pd\n",
    "model_state_dict = torch.load('model_parameters.pth')\n",
    "# 将参数转换为 pandas DataFrame\n",
    "# 将权重和偏置分别转换为 pandas DataFrame\n",
    "weights_data = {\"param\": model_state_dict[param_tensor].numpy() for param_tensor in model_state_dict if 'weight' in param_tensor}\n",
    "biases_data = {\"param\": model_state_dict[param_tensor].numpy() for param_tensor in model_state_dict if 'bias' in param_tensor}\n",
    "\n",
    "weights_df = pd.DataFrame({k: v.flatten() for k, v in weights_data.items()})\n",
    "biases_df = pd.DataFrame({k: v.flatten() for k, v in biases_data.items()})\n",
    "\n",
    "# 查看权重表格\n",
    "print(\"Weights DataFrame:\")\n",
    "display(weights_df.head())\n",
    "\n",
    "# 查看偏置表格\n",
    "print(\"Biases DataFrame:\")\n",
    "display(biases_df.head())"
   ]
  },
  {
   "cell_type": "code",
   "execution_count": 2,
   "metadata": {},
   "outputs": [
    {
     "name": "stdout",
     "output_type": "stream",
     "text": [
      "Original matrix:\n",
      "tensor([[1, 2, 3],\n",
      "        [4, 5, 6]])\n",
      "\n",
      "Transposed matrix:\n",
      "tensor([[1, 4],\n",
      "        [2, 5],\n",
      "        [3, 6]])\n"
     ]
    }
   ],
   "source": [
    "import torch\n",
    "\n",
    "x = torch.tensor([[1, 2, 3], [4, 5, 6]])\n",
    "print(\"Original matrix:\")\n",
    "print(x)\n",
    "\n",
    "# 转置矩阵\n",
    "x_transposed = x.transpose(0, 1)\n",
    "print(\"\\nTransposed matrix:\")\n",
    "print(x_transposed)"
   ]
  },
  {
   "cell_type": "code",
   "execution_count": 24,
   "metadata": {},
   "outputs": [
    {
     "name": "stdout",
     "output_type": "stream",
     "text": [
      "Original embeddings tensor:\n",
      "tensor([[[ 1.2070,  0.1724, -1.4187,  1.0755],\n",
      "         [ 0.2303,  0.1073,  0.2291,  0.2149]]])\n",
      "torch.Size([1, 2, 4])\n",
      "Scalar: torch.Size([])\n",
      "Vector: tensor([1, 2, 3])\n",
      "Vector: torch.Size([3])\n",
      "Vector: tensor([[-0.4925, -2.2336, -0.4271],\n",
      "        [-2.1664, -0.8761, -0.9369]])\n",
      "Vector: torch.Size([2, 3])\n"
     ]
    }
   ],
   "source": [
    "import torch\n",
    "embeddings = torch.randn(1, 2, 4)  # 64 个句子，每个句子 100 个词，每个词嵌入到 300 维向量\n",
    "print(\"Original embeddings tensor:\")\n",
    "print(embeddings)\n",
    "print(embeddings.shape)\n",
    "\n",
    "scalar = torch.tensor(5)\n",
    "print(f'Scalar: {scalar.shape}')\n",
    "vector = torch.tensor([1, 2, 3])\n",
    "print(f'Vector: {vector}')\n",
    "print(f'Vector: {vector.shape}')\n",
    "vector = torch.randn(2,3)\n",
    "print(f'Vector: {vector}')\n",
    "print(f'Vector: {vector.shape}')\n",
    "\n",
    "\n"
   ]
  },
  {
   "cell_type": "code",
   "execution_count": 37,
   "metadata": {},
   "outputs": [
    {
     "name": "stdout",
     "output_type": "stream",
     "text": [
      "torch.Size([1, 2, 4])\n",
      "tensor([[[1.1000, 1.2000, 1.3000, 1.4000],\n",
      "         [2.1000, 2.2000, 2.3000, 2.4000]]])\n",
      "torch.Size([1, 4, 2])\n",
      "tensor([[[1.1000, 2.1000],\n",
      "         [1.2000, 2.2000],\n",
      "         [1.3000, 2.3000],\n",
      "         [1.4000, 2.4000]]])\n"
     ]
    }
   ],
   "source": [
    "import torch\n",
    "\n",
    "tensor_3d = torch.tensor([\n",
    "    [\n",
    "        [1.1, 1.2, 1.3, 1.4],\n",
    "        [2.1, 2.2, 2.3, 2.4]\n",
    "    ]\n",
    "])\n",
    "print(tensor_3d.shape)\n",
    "print(tensor_3d)\n",
    "tran = tensor_3d.transpose(1,2)\n",
    "print(tran.shape)\n",
    "print(tran)\n"
   ]
  },
  {
   "cell_type": "code",
   "execution_count": 23,
   "metadata": {},
   "outputs": [
    {
     "name": "stdout",
     "output_type": "stream",
     "text": [
      "query: torch.Size([2, 2, 8])\n",
      "tensor([[[ 0.8065, -0.3399, -1.1084,  0.5254,  1.8009, -1.2985,  0.3069,\n",
      "          -1.0716],\n",
      "         [ 0.0094, -0.8840, -0.2189, -0.4710,  0.2439, -0.7708,  0.3005,\n",
      "           0.8937]],\n",
      "\n",
      "        [[-0.2834, -0.3945, -1.9882, -0.4478,  1.2018,  1.3639, -0.6422,\n",
      "          -0.3573],\n",
      "         [ 0.1019, -0.8515, -0.7394,  0.6198, -0.1174, -1.2281,  0.5674,\n",
      "          -0.9628]]])\n",
      "query: torch.Size([2, 2, 8])\n",
      "tensor([[[ 4.9903e-01, -1.2263e+00, -2.2188e-01,  7.1285e-01,  1.0389e+00,\n",
      "           1.8268e+00, -4.6535e-01,  2.6636e-02],\n",
      "         [ 6.4055e-01, -1.0461e-01, -2.9584e-01, -2.0339e-01,  5.7679e-01,\n",
      "          -9.4181e-04, -1.5837e-01,  2.7724e-01]],\n",
      "\n",
      "        [[-5.1174e-01, -7.1982e-01, -3.8112e-01,  1.2352e+00, -9.3439e-02,\n",
      "           7.8247e-01, -2.3243e-01,  3.0152e-01],\n",
      "         [ 3.5904e-01, -4.7988e-01,  3.9127e-02, -2.1624e-01,  6.7701e-01,\n",
      "           9.3799e-01,  8.8460e-02,  1.4140e-01]]], grad_fn=<ViewBackward0>)\n",
      "tensor([[[[ 4.9903e-01],\n",
      "          [ 6.4055e-01]],\n",
      "\n",
      "         [[-1.2263e+00],\n",
      "          [-1.0461e-01]],\n",
      "\n",
      "         [[-2.2188e-01],\n",
      "          [-2.9584e-01]],\n",
      "\n",
      "         [[ 7.1285e-01],\n",
      "          [-2.0339e-01]],\n",
      "\n",
      "         [[ 1.0389e+00],\n",
      "          [ 5.7679e-01]],\n",
      "\n",
      "         [[ 1.8268e+00],\n",
      "          [-9.4181e-04]],\n",
      "\n",
      "         [[-4.6535e-01],\n",
      "          [-1.5837e-01]],\n",
      "\n",
      "         [[ 2.6636e-02],\n",
      "          [ 2.7724e-01]]],\n",
      "\n",
      "\n",
      "        [[[-5.1174e-01],\n",
      "          [ 3.5904e-01]],\n",
      "\n",
      "         [[-7.1982e-01],\n",
      "          [-4.7988e-01]],\n",
      "\n",
      "         [[-3.8112e-01],\n",
      "          [ 3.9127e-02]],\n",
      "\n",
      "         [[ 1.2352e+00],\n",
      "          [-2.1624e-01]],\n",
      "\n",
      "         [[-9.3439e-02],\n",
      "          [ 6.7701e-01]],\n",
      "\n",
      "         [[ 7.8247e-01],\n",
      "          [ 9.3799e-01]],\n",
      "\n",
      "         [[-2.3243e-01],\n",
      "          [ 8.8460e-02]],\n",
      "\n",
      "         [[ 3.0152e-01],\n",
      "          [ 1.4140e-01]]]], grad_fn=<TransposeBackward0>)\n"
     ]
    }
   ],
   "source": [
    "import torch\n",
    "import torch.nn as nn\n",
    "\n",
    "class MultiHeadAttention(nn.Module):\n",
    "    def __init__(self, d_model, head):\n",
    "        super(MultiHeadAttention, self).__init__()\n",
    "        self.d_model = d_model\n",
    "        self.head = head\n",
    "        self.d_k = d_model // head\n",
    "        self.linear_query = nn.Linear(d_model, d_model)\n",
    "\n",
    "    def forward(self, query):\n",
    "        n_batch = query.size(0)\n",
    "        \n",
    "        # 线性变换并调整形状\n",
    "        query = self.linear_query(query)\n",
    "        print(f'query: {query.shape}')\n",
    "        print(query)\n",
    "        query = query.view(n_batch, -1, self.head, self.d_k).transpose(1, 2)\n",
    "        \n",
    "        return query\n",
    "\n",
    "# 示例输入\n",
    "d_model = 8\n",
    "head = 8\n",
    "seq_len = 2\n",
    "n_batch = 2\n",
    "\n",
    "query = torch.randn(n_batch, seq_len, d_model)\n",
    "print(f'query: {query.shape}')\n",
    "print(query)\n",
    "attention_layer = MultiHeadAttention(d_model, head)\n",
    "\n",
    "# 计算查询向量\n",
    "query_transformed = attention_layer(query)\n",
    "print(query_transformed)  # 输出形状：torch.Size([32, 8, 10, 64])\n"
   ]
  }
 ],
 "metadata": {
  "kernelspec": {
   "display_name": "learn",
   "language": "python",
   "name": "python3"
  },
  "language_info": {
   "codemirror_mode": {
    "name": "ipython",
    "version": 3
   },
   "file_extension": ".py",
   "mimetype": "text/x-python",
   "name": "python",
   "nbconvert_exporter": "python",
   "pygments_lexer": "ipython3",
   "version": "3.10.14"
  }
 },
 "nbformat": 4,
 "nbformat_minor": 2
}
