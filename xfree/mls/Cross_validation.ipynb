{
 "cells": [
  {
   "cell_type": "markdown",
   "id": "de912805",
   "metadata": {},
   "source": [
    "# 定义"
   ]
  },
  {
   "cell_type": "markdown",
   "id": "797f7814-04f1-4bf3-8d5c-07dc117ac7fd",
   "metadata": {},
   "source": [
    "**Cross-Validation**: \n",
    "- Before creating any kind of machine learning model, we must know what cross-validation is and how to choose the best cross-validation depending on your datasets.\n",
    "> 在创建任何类型的机器学习模型之前，我们必须知道什么是交叉验证，以及如何根据您的数据集选择最佳的交叉验证。\n",
    "- Cross-validation is a step in the process of building a machine learning model which helps us ensure that our models fit the data accurately and alse ensures that we do not overfit.\n",
    "> 交叉验证是构建机器学习模型过程中的一步，它有助于确保我们的模型准确地适合数据，并且还确保我们不会过度拟合。\n",
    "- But this leads to another term: overfitting.\n",
    "> 但这又引出了另一个术语：过度拟合。\n",
    "\n",
    "**Overfitting**:过拟合\n",
    "- To explain overfitting, I think it's best if we look at a dataset\n",
    "> 为了解释过度拟合，我认为最好的方法是我们看一下数据集\n",
    "- There is a red wine-quality dataset which is quite famous.\n",
    "> 有一个非常有名的红酒质量数据集。\n",
    "- This dataset has 11 different attributes that decide the quality of red wine.\n",
    "> 这个数据集有11个不同的属性，决定了红酒的质量。\n",
    "- These attributes include:\n",
    "    - fixed acidity > 固定酸度\n",
    "    - volatile acidity > 挥发性酸度\n",
    "    - citric acid > 柠檬酸\n",
    "    - residual sugar > 残留糖\n",
    "    - chlorides > 氯化物\n",
    "    - free sulfur dioxide > 游离二氧化硫\n",
    "    - total sulfur dioxide > 总二氧化硫\n",
    "    - density > 密度\n",
    "    - pH > 酸碱度\n",
    "    - sulphates > 硫酸盐\n",
    "    - alcohol > 酒精\n",
    "- Based on there different attributes, we are required to predict the quality of red wine which is a value between 0 and 10.\n",
    "> 基于这些不同的属性，我们需要预测红酒的质量，这是一个介于0和10之间的值。\n"
   ]
  },
  {
   "cell_type": "code",
   "execution_count": null,
   "id": "2093f55e",
   "metadata": {},
   "outputs": [],
   "source": []
  },
  {
   "cell_type": "markdown",
   "id": "bf40cf33-440b-4cb8-a0eb-b37dc4450acf",
   "metadata": {},
   "source": [
    "# 命题"
   ]
  },
  {
   "cell_type": "markdown",
   "id": "5bce0f6c-68ea-4b93-a2b6-e11751c18ead",
   "metadata": {},
   "source": [
    "# 问题\n"
   ]
  },
  {
   "cell_type": "code",
   "execution_count": null,
   "id": "76d675b7-11a1-46bf-b5e9-b81c5fcdb587",
   "metadata": {},
   "outputs": [],
   "source": []
  },
  {
   "cell_type": "code",
   "execution_count": null,
   "id": "801889e6",
   "metadata": {},
   "outputs": [],
   "source": []
  },
  {
   "cell_type": "markdown",
   "id": "f32398d8",
   "metadata": {},
   "source": [
    "# 代码"
   ]
  },
  {
   "cell_type": "code",
   "execution_count": 1,
   "id": "7c740bde",
   "metadata": {},
   "outputs": [],
   "source": [
    "import pandas as pd\n",
    "df =  pd.read_csv(\"winequality-red.csv\")"
   ]
  },
  {
   "cell_type": "markdown",
   "id": "e6098442",
   "metadata": {},
   "source": [
    "We can treat this problem either as a classification problem or as a regression problem since win quality is nothing but a real number between 0 and 10.\n",
    "> 我们可以将这个问题视为分类问题，也可以将其视为回归问题，因为获胜质量只是0到10之间的实数。\n",
    "\n",
    "For simplicity, let's choose classification.\n",
    "> 为简单起见，让我们选择分类。\n",
    "\n",
    "This dataset, however, consists of only six types of quality values.\n",
    "> 然而，这个数据集只包含六种质量值。\n",
    "\n",
    "We will thus map all quality values from 0 to 5.\n",
    "> 因此，我们将所有质量值从0映射到5。"
   ]
  },
  {
   "cell_type": "code",
   "execution_count": 3,
   "id": "b40cfdea",
   "metadata": {},
   "outputs": [
    {
     "name": "stderr",
     "output_type": "stream",
     "text": [
      "C:\\Users\\xiaolt1\\AppData\\Local\\Temp\\ipykernel_37244\\3393959002.py:13: FutureWarning: Setting an item of incompatible dtype is deprecated and will raise in a future error of pandas. Value '[nan nan nan ...  0. nan  0.]' has dtype incompatible with int64, please explicitly cast to a compatible dtype first.\n",
      "  df.loc[:,\"quality\"] = df.quality.map(quality_mapping)\n"
     ]
    }
   ],
   "source": [
    "# a mapping dictionary that maps the quality values from 0 to 5\n",
    "quality_mapping = {\n",
    "    3: 0,\n",
    "    4: 1,\n",
    "    5: 2,\n",
    "    6: 3,\n",
    "    7: 4,\n",
    "    8: 5\n",
    "}\n",
    "# you can use the map function of pandas with\n",
    "# any dictionary to convert the values in a given\n",
    "# column to values in the dictionary\n",
    "df.loc[:,\"quality\"] = df.quality.map(quality_mapping)"
   ]
  }
 ],
 "metadata": {
  "kernelspec": {
   "display_name": ".venv",
   "language": "python",
   "name": "python3"
  },
  "language_info": {
   "codemirror_mode": {
    "name": "ipython",
    "version": 3
   },
   "file_extension": ".py",
   "mimetype": "text/x-python",
   "name": "python",
   "nbconvert_exporter": "python",
   "pygments_lexer": "ipython3",
   "version": "3.11.6"
  }
 },
 "nbformat": 4,
 "nbformat_minor": 5
}
