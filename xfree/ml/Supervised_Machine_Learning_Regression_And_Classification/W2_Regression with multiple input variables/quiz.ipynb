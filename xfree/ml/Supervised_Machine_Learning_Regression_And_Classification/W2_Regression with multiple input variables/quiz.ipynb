{
 "cells": [
  {
   "cell_type": "markdown",
   "metadata": {},
   "source": [
    "# Multiple linear regression"
   ]
  },
  {
   "cell_type": "markdown",
   "metadata": {},
   "source": [
    "## 1. In the training set below, what is $x^(3)_4$ ? Please type in the number below (this is an integer such as 123,no decimal points).\n",
    "> 在下面的训练集中，$x^(3)_4$是多少？请在下面输入数字（这是一个整数，如123，没有小数点）。\n",
    "\n",
    "| Size in feet^2 (x^(1)) | Number of bedrooms (x^(2)) | Number of floors (x^(3)) | Age of home (x^(4)) | Price in dollars |\n",
    "|------------------------|----------------------------|--------------------------|---------------------|------------------|\n",
    "| 2104                   | 5                          | 1                        | 45                  | 460              |\n",
    "| 1416                   | 3                          | 2                        | 40                  | 232              |\n",
    "| 1534                   | 3                          | 2                        | 30                  | 315              |\n",
    "| 852                    | 2                          | 1                        | 36                  | 178              |\n",
    "\n",
    "---\n",
    "### Answer\n",
    "> $x^(3)_4$ = 30\n",
    "### Reference:\n",
    "- [W2-1.1-Multiple features](./W2-1.1-Multiple%20features.mp4)\n",
    "\n",
    "<div class=\"alert alert-success\">\n",
    "<b>Correct：</b>\n",
    "is the 4th fethure (4th column in the table) of the 3rd training example (3rd row in the table).\n",
    "i  = 3, j = 4, \n",
    "so $x^i_j$ = 30\n",
    "<p>\n",
    "$x^(3)_4$ = 30 是表中第3行第4列的值。\n",
    "</p>\n",
    "</div>\n",
    "\n",
    "\n"
   ]
  },
  {
   "cell_type": "markdown",
   "metadata": {},
   "source": [
    "## 2. Which of the following are potential benefits of vectorization? Please choose the best option.\n",
    "> 以下哪些是向量化的潜在好处？请选择最佳选项。\n",
    "- [ ] A. It makes your code run faster\n",
    "- [ ] B. It can make your code shorter\n",
    "- [ ] C. It allows ypur code to run more easily on parallel compute hardware\n",
    "- [ ] D. All of the above \n",
    "\n",
    "---\n",
    "> D. All of the above\n"
   ]
  },
  {
   "cell_type": "markdown",
   "metadata": {},
   "source": [
    "## 3. True/False? To make gradient descent converge about twice as fast, a technique that almost always works is to double the learning rate $\\alpha$.\n",
    "> 真/假？为了使梯度下降收敛大约快两倍，几乎总是有效的技术是将学习率$\\alpha$加倍。\n",
    "- [ ] A. True\n",
    "- [ ] B. False\n",
    "\n",
    "---\n",
    "\n",
    "> B. False\n",
    "\n",
    "<div class=\"alert alert-success\">\n",
    "<b>Correct：</b>\n",
    "Doubling the learning rate may result in a learning rate that is too large, and cause gradient descent to fail to find the optiomal values for the parameters $w$ and $b$.\n",
    "</div>"
   ]
  }
 ],
 "metadata": {
  "kernelspec": {
   "display_name": "al",
   "language": "python",
   "name": "python3"
  },
  "language_info": {
   "name": "python",
   "version": "3.10.14"
  }
 },
 "nbformat": 4,
 "nbformat_minor": 2
}
