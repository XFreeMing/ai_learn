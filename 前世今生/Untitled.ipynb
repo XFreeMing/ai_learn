{
 "cells": [
  {
   "cell_type": "code",
   "execution_count": 3,
   "id": "071f4d5a-b09d-4fda-a6dd-942f1bfdd487",
   "metadata": {},
   "outputs": [],
   "source": [
    "import copy\n",
    "import math\n",
    "from collections import namedtuple\n",
    "\n",
    "import numpy as np\n",
    "import torch\n",
    "import torch.nn as nn\n",
    "import torch.nn.functional as F\n",
    "from torch.autograd import Variable"
   ]
  },
  {
   "cell_type": "code",
   "execution_count": 6,
   "id": "0b0e8c17-da76-4fb5-b2cd-5369fc01eb0b",
   "metadata": {},
   "outputs": [],
   "source": [
    "Hypothesis = namedtuple('Hypothesis', ['value', 'score'])"
   ]
  },
  {
   "cell_type": "code",
   "execution_count": 8,
   "id": "a25ba78d-9291-4b16-bcd7-acf2e83a93ac",
   "metadata": {},
   "outputs": [],
   "source": [
    "def clones(module, n):\n",
    "    return nn.ModuleList([copy.deepcopy(module) for _ in range(n)])"
   ]
  },
  {
   "cell_type": "code",
   "execution_count": 9,
   "id": "1b494786-aad9-45e2-8a33-3e2f2b711b6b",
   "metadata": {},
   "outputs": [],
   "source": [
    "class LayerNorm(nn.Module):\n",
    "\n",
    "    def __init__(self, feature, eps=1e-6):\n",
    "        \"\"\"\n",
    "        :param feature: self-attention 的 x 的大小\n",
    "        :param eps:\n",
    "        \"\"\"\n",
    "        super(LayerNorm, self).__init__()\n",
    "        self.a_2 = nn.Parameter(torch.ones(feature))\n",
    "        self.b_2 = nn.Parameter(torch.zeros(feature))\n",
    "        self.eps = eps\n",
    "\n",
    "    def forward(self, x):\n",
    "        mean = x.mean(-1, keepdim=True)\n",
    "        std = x.std(-1, keepdim=True)\n",
    "        return self.a_2 * (x - mean) / (std + self.eps) + self.b_2"
   ]
  }
 ],
 "metadata": {
  "kernelspec": {
   "display_name": "Python 3 (ipykernel)",
   "language": "python",
   "name": "python3"
  },
  "language_info": {
   "codemirror_mode": {
    "name": "ipython",
    "version": 3
   },
   "file_extension": ".py",
   "mimetype": "text/x-python",
   "name": "python",
   "nbconvert_exporter": "python",
   "pygments_lexer": "ipython3",
   "version": "3.10.14"
  }
 },
 "nbformat": 4,
 "nbformat_minor": 5
}
