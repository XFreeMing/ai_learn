{
 "cells": [
  {
   "cell_type": "code",
   "execution_count": 5,
   "metadata": {},
   "outputs": [],
   "source": [
    "import torch\n",
    "from torch import nn\n",
    "from torch.nn import functional as F"
   ]
  },
  {
   "cell_type": "code",
   "execution_count": 36,
   "metadata": {},
   "outputs": [],
   "source": [
    "n_item = 10\n",
    "n_feature = 2\n",
    "\n",
    "\n",
    "torch.manual_seed(123)\n",
    "data_x = torch.randn(size=(n_item, n_feature)).float()\n",
    "data_y = torch.where(\n",
    "    torch.subtract(data_x[:, 0] * 0.5, data_x[:, 1] * 1.5) + 0.02 > 0, 0, 1\n",
    ").long()\n",
    "\n",
    "data_y = F.one_hot(data_y)\n"
   ]
  },
  {
   "cell_type": "code",
   "metadata": {
    "ExecuteTime": {
     "end_time": "2024-06-04T07:40:08.052269Z",
     "start_time": "2024-06-04T07:40:06.409380Z"
    }
   },
   "source": [
    "\n",
    "\n",
    "class BinaryClassificationModael(nn.Module):\n",
    "    def __init__(self,in_feature):\n",
    "        super(BinaryClassificationModael,self).__init__()\n",
    "        #  single perceptron\n",
    "        # self.layer_1 = nn.Linear(in_features = in_feature,out_features=2, bias=True)\n",
    "        # mult1 perceptron\n",
    "        self.layer_1 = nn.Linear(in_features = in_feature,out_features=128, bias=True)\n",
    "        self.layer_2 = nn.Linear(in_features = 128,out_features=512, bias=True)\n",
    "        self.layer_final = nn.Linear(in_features = 512,out_features=2, bias=True)\n",
    "        \n",
    "    def forward(self, x):\n",
    "        print(x)\n",
    "        # return F.sigmoid(self.layer_1(x))\n",
    "        layer_1_output = F.sigmoid(self.layer_1(x))\n",
    "        layer_2_output = F.sigmoid(self.layer_2(layer_1_output))\n",
    "        layer_final_output = F.sigmoid(self.layer_final(layer_2_output))\n",
    "        return layer_final_output"
   ],
   "outputs": [
    {
     "ename": "NameError",
     "evalue": "name 'nn' is not defined",
     "output_type": "error",
     "traceback": [
      "\u001B[0;31m---------------------------------------------------------------------------\u001B[0m",
      "\u001B[0;31mNameError\u001B[0m                                 Traceback (most recent call last)",
      "Cell \u001B[0;32mIn[1], line 3\u001B[0m\n\u001B[1;32m      1\u001B[0m \u001B[38;5;66;03m# pydev_debug_cell\u001B[39;00m\n\u001B[0;32m----> 3\u001B[0m \u001B[38;5;28;01mclass\u001B[39;00m \u001B[38;5;21;01mBinaryClassificationModael\u001B[39;00m(\u001B[43mnn\u001B[49m\u001B[38;5;241m.\u001B[39mModule):\n\u001B[1;32m      4\u001B[0m     \u001B[38;5;28;01mdef\u001B[39;00m \u001B[38;5;21m__init__\u001B[39m(\u001B[38;5;28mself\u001B[39m,in_feature):\n\u001B[1;32m      5\u001B[0m         \u001B[38;5;28msuper\u001B[39m(BinaryClassificationModael,\u001B[38;5;28mself\u001B[39m)\u001B[38;5;241m.\u001B[39m\u001B[38;5;21m__init__\u001B[39m()\n",
      "\u001B[0;31mNameError\u001B[0m: name 'nn' is not defined"
     ]
    }
   ],
   "execution_count": 1
  },
  {
   "cell_type": "code",
   "metadata": {
    "ExecuteTime": {
     "end_time": "2024-06-04T07:40:30.716409Z",
     "start_time": "2024-06-04T07:40:30.616031Z"
    }
   },
   "source": [
    "learning_rate = 0.01\n",
    "epoch = 100\n",
    "model = BinaryClassificationModael(n_feature)\n",
    "opt = torch.optim.SGD(model.parameters(), lr=learning_rate)\n",
    "\n",
    "criteria =  nn.BCELoss()\n",
    "\n",
    "for epoch in range(1000):\n",
    "    for step in range(n_item):\n",
    "        x = data_x[step]\n",
    "        y = data_y[step]\n",
    "        opt.zero_grad()\n",
    "        y_hat = model(x.unsqueeze(0))\n",
    "        loss = criteria(y_hat, y.unsqueeze(0).float())\n",
    "        loss.backward()\n",
    "        opt.step()\n",
    "    print(f'epoch: {epoch}, loss: {loss.item()}')"
   ],
   "outputs": [
    {
     "ename": "NameError",
     "evalue": "name 'BinaryClassificationModael' is not defined",
     "output_type": "error",
     "traceback": [
      "\u001B[0;31m---------------------------------------------------------------------------\u001B[0m",
      "\u001B[0;31mNameError\u001B[0m                                 Traceback (most recent call last)",
      "Cell \u001B[0;32mIn[2], line 3\u001B[0m\n\u001B[1;32m      1\u001B[0m learning_rate \u001B[38;5;241m=\u001B[39m \u001B[38;5;241m0.01\u001B[39m\n\u001B[1;32m      2\u001B[0m epoch \u001B[38;5;241m=\u001B[39m \u001B[38;5;241m100\u001B[39m\n\u001B[0;32m----> 3\u001B[0m model \u001B[38;5;241m=\u001B[39m \u001B[43mBinaryClassificationModael\u001B[49m(n_feature)\n\u001B[1;32m      4\u001B[0m opt \u001B[38;5;241m=\u001B[39m torch\u001B[38;5;241m.\u001B[39moptim\u001B[38;5;241m.\u001B[39mSGD(model\u001B[38;5;241m.\u001B[39mparameters(), lr\u001B[38;5;241m=\u001B[39mlearning_rate)\n\u001B[1;32m      6\u001B[0m criteria \u001B[38;5;241m=\u001B[39m  nn\u001B[38;5;241m.\u001B[39mBCELoss()\n",
      "\u001B[0;31mNameError\u001B[0m: name 'BinaryClassificationModael' is not defined"
     ]
    }
   ],
   "execution_count": 2
  }
 ],
 "metadata": {
  "kernelspec": {
   "display_name": "Python 3 (ipykernel)",
   "language": "python",
   "name": "python3"
  },
  "language_info": {
   "codemirror_mode": {
    "name": "ipython",
    "version": 3
   },
   "file_extension": ".py",
   "mimetype": "text/x-python",
   "name": "python",
   "nbconvert_exporter": "python",
   "pygments_lexer": "ipython3",
   "version": "3.9.18"
  }
 },
 "nbformat": 4,
 "nbformat_minor": 2
}
