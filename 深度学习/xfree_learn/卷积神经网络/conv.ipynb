{
 "cells": [
  {
   "cell_type": "code",
   "execution_count": 2,
   "metadata": {},
   "outputs": [],
   "source": [
    "from torch import nn\n",
    "from PIL import Image\n",
    "from torchvision import transforms # augumentation "
   ]
  },
  {
   "cell_type": "code",
   "execution_count": null,
   "metadata": {},
   "outputs": [],
   "source": [
    "from 深度学习.系统入门深度学习，直击算法工程师.源码.源码.04-04.conv import KERNEL_SIZE\n",
    "from .conda.Lib.email.policy import strict\n",
    "from .conda.Lib.lib2to3.pgen2.tokenize import group\n",
    "\n",
    "transform = transforms.Compose(\n",
    "    [\n",
    "        transforms.ToTensro(), # 归一化 [0,1]\n",
    "    ]\n",
    ")\n",
    "\n",
    "image = Image.open('./lena.jpg')\n",
    "x = transorm(image) # [0,1] tensor\n",
    "x = x.unsqueeze(0) # exoand batch dim: [N,C,H,W]   \n",
    "batch_size,n_channels,height,width = x.size()\n",
    "\n",
    "N_OUT_CHS = 32\n",
    "KERNEL_SIZE = 5\n",
    "conv2d_nn = nn.Conv2d(\n",
    "    in_channels = n_channels,\n",
    "    out_channels = N_OUT_CHS,\n",
    "    kernel_size = (KERNEL_SIZE, KERNEL_SIZE)\n",
    "    stride = 1,\n",
    "    # padding = (KERNEL_SIZE // 2, KERNEL_SIZE // 2),\n",
    "    # padding_mode = 'zeros'\n",
    "    # dilation = 1,\n",
    "    # groups = 1, \n",
    ")\n",
    "x_out = conv2d_nn(x)\n",
    "print('x_out size:',x_out.size())"
   ]
  }
 ],
 "metadata": {
  "kernelspec": {
   "display_name": "Python 3 (ipykernel)",
   "language": "python",
   "name": "python3"
  }
 },
 "nbformat": 4,
 "nbformat_minor": 2
}
