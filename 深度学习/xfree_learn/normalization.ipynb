{
 "cells": [
  {
   "cell_type": "code",
   "execution_count": 4,
   "metadata": {},
   "outputs": [],
   "source": [
    "import torch\n",
    "from torch import nn\n",
    "from torch.nn import functional as F \n",
    "output_from_pre_layer = torch.randn(size = (8, 224, 224,16))\n"
   ]
  },
  {
   "cell_type": "code",
   "execution_count": 22,
   "metadata": {},
   "outputs": [
    {
     "name": "stdout",
     "output_type": "stream",
     "text": [
      "torch.Size([8, 16, 224, 224])\n"
     ]
    }
   ],
   "source": [
    "\n",
    "# batch norm\n",
    "\"\"\"\n",
    "在 N 求均值和方差\n",
    "适用于大的 batch size\n",
    "不太适用于 可变长度的序列  text speech\n",
    "\"\"\"\n",
    "bn_norm = nn.BatchNorm2d(num_features = 16)\n",
    "norm_out = bn_norm(output_from_pre_layer.permute(0,3,1,2)) # NHWC -> NCHW\n",
    "print(norm_out.shape)\n"
   ]
  },
  {
   "cell_type": "code",
   "execution_count": 25,
   "metadata": {},
   "outputs": [
    {
     "name": "stdout",
     "output_type": "stream",
     "text": [
      "torch.Size([8, 224, 224, 16])\n"
     ]
    }
   ],
   "source": [
    "# layer norm\n",
    "\"\"\"\n",
    "在 [224,224,16] 求均值和方差\n",
    "对 batch size 不敏感\n",
    "适用于 sequence data(序列可变长数据)\n",
    "\"\"\"\n",
    "ln_norm = nn.LayerNorm(normalized_shape = [224,224,16]) # input shape [N,*]\n",
    "norm_out = ln_norm(output_from_pre_layer)\n",
    "print(norm_out.shape)"
   ]
  },
  {
   "cell_type": "code",
   "execution_count": 10,
   "metadata": {},
   "outputs": [
    {
     "name": "stdout",
     "output_type": "stream",
     "text": [
      "torch.Size([8, 16, 224, 224])\n"
     ]
    }
   ],
   "source": [
    "# instance norm\n",
    "\"\"\"\n",
    "在 channel 求均值和方差\n",
    "用 batch 会打破数据维度的关系\n",
    "我们需要 feature  之间的关系\n",
    "适用于 GAN(生成式神经网络)\n",
    "\"\"\"\n",
    "in_norm = nn.InstanceNorm2d(16) \n",
    "norm_out = in_norm(output_from_pre_layer.permute(0,3,1,2)) # NHWC -> NCHW\n",
    "print(norm_out.shape)\n"
   ]
  },
  {
   "cell_type": "code",
   "execution_count": 13,
   "metadata": {},
   "outputs": [
    {
     "name": "stdout",
     "output_type": "stream",
     "text": [
      "torch.Size([8, 16, 224, 224])\n"
     ]
    }
   ],
   "source": [
    "# group norm\n",
    "\"\"\"\n",
    "对channel 分组\n",
    "对分组后的 channel 求均值和方差 [224,224,group_num,16/group_num]\n",
    "layer norm 和 instance norm 的结合\n",
    "group num = 1 时 退化为 layer norm\n",
    "group num = channel 时 退化为 instance norm\n",
    "\"\"\"\n",
    "gn_norm = nn.GroupNorm(num_groups = 4, num_channels = 16) # input shape [N,C,*]\n",
    "norm_out = gn_norm(output_from_pre_layer.permute(0,3,1,2)) # NHWC -> NCHW\n",
    "\n",
    "final_out = F.relu(norm_out) # 激活函数\n",
    "print(final_out.shape)\n"
   ]
  }
 ],
 "metadata": {
  "kernelspec": {
   "display_name": "Python 3 (ipykernel)",
   "language": "python",
   "name": "python3"
  },
  "language_info": {
   "codemirror_mode": {
    "name": "ipython",
    "version": 3
   },
   "file_extension": ".py",
   "mimetype": "text/x-python",
   "name": "python",
   "nbconvert_exporter": "python",
   "pygments_lexer": "ipython3",
   "version": "3.9.18"
  }
 },
 "nbformat": 4,
 "nbformat_minor": 2
}
