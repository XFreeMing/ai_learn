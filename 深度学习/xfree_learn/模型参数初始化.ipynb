{
 "cells": [
  {
   "cell_type": "code",
   "execution_count": 6,
   "metadata": {},
   "outputs": [
    {
     "name": "stdout",
     "output_type": "stream",
     "text": [
      "Linear(in_features=16, out_features=128, bias=True)\n",
      "Parameter containing:\n",
      "tensor([[-0.0561, -0.1242,  0.0464,  ...,  0.0110,  0.0072,  0.2377],\n",
      "        [-0.0585,  0.2133,  0.1963,  ...,  0.1889, -0.0350, -0.1778],\n",
      "        [ 0.1668, -0.1186, -0.0753,  ...,  0.1159,  0.2115, -0.0627],\n",
      "        ...,\n",
      "        [-0.0098,  0.0358,  0.2432,  ...,  0.2129, -0.0230, -0.1998],\n",
      "        [-0.2328, -0.0775,  0.1324,  ..., -0.0240, -0.0714,  0.1127],\n",
      "        [-0.0627, -0.0115, -0.2040,  ...,  0.0735, -0.1522, -0.2237]],\n",
      "       requires_grad=True)\n",
      "Parameter containing:\n",
      "tensor([[-0.0590,  0.2502, -0.0283,  ..., -0.1490,  0.2362,  0.2644],\n",
      "        [ 0.1723, -0.2764, -0.0184,  ...,  0.2137,  0.2815,  0.2715],\n",
      "        [-0.2827,  0.0115, -0.0351,  ..., -0.3345, -0.2859,  0.2967],\n",
      "        ...,\n",
      "        [-0.0771, -0.0598, -0.2305,  ..., -0.2016, -0.3246,  0.2534],\n",
      "        [ 0.0644, -0.1513, -0.0452,  ...,  0.1816, -0.3100,  0.2629],\n",
      "        [-0.0542, -0.1163, -0.1754,  ...,  0.1728, -0.1434,  0.3133]],\n",
      "       requires_grad=True)\n",
      "Parameter containing:\n",
      "tensor([[ 0.4580, -0.0973, -0.1470,  ..., -0.2473, -0.5666, -0.1011],\n",
      "        [ 0.5472,  0.4951, -0.3741,  ..., -0.2213,  0.3559, -0.4738],\n",
      "        [ 0.5490,  0.3610, -0.3888,  ...,  0.3788,  0.5001, -0.5873],\n",
      "        ...,\n",
      "        [-0.4981, -0.0055, -0.0737,  ...,  0.3044,  0.0902,  0.6105],\n",
      "        [ 0.0681,  0.5256,  0.4503,  ...,  0.1976, -0.3701, -0.2778],\n",
      "        [ 0.1191, -0.4408,  0.3100,  ..., -0.0671,  0.4683, -0.1656]],\n",
      "       requires_grad=True)\n"
     ]
    }
   ],
   "source": [
    "from torch import nn\n",
    "model = nn.Linear(in_features=16, out_features=128)\n",
    "print(model)\n",
    "print(model.weight)\n",
    "nn.init.xavier_uniform_(model.weight,gain=nn.init.calculate_gain('tanh'))\n",
    "print(model.weight)\n",
    "nn.init.kaiming_uniform_(model.weight,mode='fan_in',nonlinearity='leaky_relu')\n",
    "print(model.weight)\n"
   ]
  }
 ],
 "metadata": {
  "kernelspec": {
   "display_name": "Python 3 (ipykernel)",
   "language": "python",
   "name": "python3"
  },
  "language_info": {
   "codemirror_mode": {
    "name": "ipython",
    "version": 3
   },
   "file_extension": ".py",
   "mimetype": "text/x-python",
   "name": "python",
   "nbconvert_exporter": "python",
   "pygments_lexer": "ipython3",
   "version": "3.9.18"
  }
 },
 "nbformat": 4,
 "nbformat_minor": 2
}
