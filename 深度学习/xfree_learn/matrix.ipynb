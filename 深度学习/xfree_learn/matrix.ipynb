{
 "cells": [
  {
   "cell_type": "code",
   "execution_count": 1,
   "metadata": {},
   "outputs": [],
   "source": [
    "\n",
    "class Matrix:\n",
    "    def __init__(self, list2d):\n",
    "        self._values =  [row[:] for row in list2d]\n",
    "        \n",
    "    def __getitem__(self, pos):\n",
    "        r, c = pos\n",
    "        return self._values[r][c]\n",
    "    def size(self):\n",
    "        r, c = self.shape()\n",
    "        return r * c\n",
    "    def row_num(self):\n",
    "        return self.shape()[0]\n",
    "    __len__ = row_num\n",
    "    def col_num(self):\n",
    "        return self.shape()[1]\n",
    "    \n",
    "        \n",
    "    def shape(self):\n",
    "        return (len(self._values), len(self._values[0]))\n",
    "    def __repr__(self):\n",
    "        return \"Matrix({})\".format(self._values)\n",
    "    \n",
    "    __str__ = __repr__\n",
    "    \n",
    "    \n",
    "        "
   ]
  },
  {
   "cell_type": "code",
   "execution_count": 9,
   "metadata": {},
   "outputs": [
    {
     "name": "stdout",
     "output_type": "stream",
     "text": [
      "Matrix([[1, 2, 3], [4, 5, 6], [7, 8, 9]])\n",
      "matrix.shape = (3, 3)\n",
      "matrix.row_num = 3\n",
      "matrix.col_num = 3\n",
      "matrix.size = 9\n",
      "len(matrix) = 3\n"
     ]
    }
   ],
   "source": [
    "matrix = Matrix([[1, 2, 3], [4, 5, 6], [7, 8, 9]])\n",
    "print(matrix)\n",
    "print(\"matrix.shape = {}\".format(matrix.shape()))\n",
    "print(\"matrix.row_num = {}\".format(matrix.row_num()))\n",
    "print(\"matrix.col_num = {}\".format(matrix.col_num()))\n",
    "print(\"matrix.size = {}\".format(matrix.size()))\n",
    "print(\"len(matrix) = {}\".format(len(matrix)))\n",
    "print(\"matrix[0, 0] = {}\".format(matrix[0, 0]))\n"
   ]
  }
 ],
 "metadata": {
  "kernelspec": {
   "display_name": "Python 3 (ipykernel)",
   "language": "python",
   "name": "python3"
  },
  "language_info": {
   "codemirror_mode": {
    "name": "ipython",
    "version": 3
   },
   "file_extension": ".py",
   "mimetype": "text/x-python",
   "name": "python",
   "nbconvert_exporter": "python",
   "pygments_lexer": "ipython3",
   "version": "3.9.18"
  }
 },
 "nbformat": 4,
 "nbformat_minor": 2
}
