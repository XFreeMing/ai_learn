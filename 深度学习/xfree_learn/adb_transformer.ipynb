{
 "cells": [
  {
   "cell_type": "code",
   "execution_count": 1,
   "metadata": {},
   "outputs": [],
   "source": [
    "import math\n",
    "import torch\n",
    "import collections\n",
    "import numpy as np\n",
    "import torch.nn as nn\n",
    "from copy import deepcopy\n",
    "import torch.nn.functional as F\n",
    "from torch.autograd import Variable"
   ]
  },
  {
   "cell_type": "code",
   "execution_count": null,
   "metadata": {},
   "outputs": [],
   "source": [
    "class LayerNorm(nn.Module):\n",
    "    \"\"\"\n",
    "    构建一个LayerNorm Module\n",
    "    LayerNorm的作用：对x归一化，使x的均值为0，方差为1\n",
    "    LayerNorm计算公式：x-mean(x)/\\sqrt{var(x)+\\epsilon} = x-mean(x)/std(x)+\\epsilon\n",
    "    \"\"\"\n",
    "\n",
    "    def __init__(self, x_size, eps=1e-6):\n",
    "        \"\"\"\n",
    "        :param x_size: 特征的维度\n",
    "        :param eps: eps是一个平滑的过程，取值通常在（10^-4~10^-8 之间）\n",
    "        其含义是，对于每个参数，随着其更新的总距离增多，其学习速率也随之变慢。\n",
    "        防止出现除以0的情况。\n",
    "\n",
    "        nn.Parameter将一个不可训练的类型Tensor转换成可以训练的类型parameter，\n",
    "        并将这个parameter绑定到这个module里面。\n",
    "        使用这个函数的目的也是想让某些变量在学习的过程中不断的修改其值以达到最优化。\n",
    "        \"\"\"\n",
    "        super(LayerNorm, self).__init__()\n",
    "        self.ones_tensor = nn.Parameter(torch.ones(x_size))  # 按照特征向量大小返回一个全1的张量，并且转换成可训练的parameter类型\n",
    "        self.zeros_tensor = nn.Parameter(torch.zeros(x_size))\n",
    "        self.eps = eps\n",
    "\n",
    "    def forward(self, x):\n",
    "        mean = x.mean(-1, keepdim=True)\n",
    "        std = x.std(-1, keepdim=True)  # 求标准差\n",
    "        return self.ones_tensor * (x - mean) / (std + self.eps) + self.zeros_tensor  # LayerNorm的计算公式\n"
   ]
  }
 ],
 "metadata": {
  "kernelspec": {
   "display_name": "Python 3 (ipykernel)",
   "language": "python",
   "name": "python3"
  },
  "language_info": {
   "codemirror_mode": {
    "name": "ipython",
    "version": 3
   },
   "file_extension": ".py",
   "mimetype": "text/x-python",
   "name": "python",
   "nbconvert_exporter": "python",
   "pygments_lexer": "ipython3",
   "version": "3.9.18"
  }
 },
 "nbformat": 4,
 "nbformat_minor": 2
}
