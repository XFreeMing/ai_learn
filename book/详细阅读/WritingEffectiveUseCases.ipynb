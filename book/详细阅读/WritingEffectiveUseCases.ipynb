{
 "cells": [
  {
   "cell_type": "markdown",
   "metadata": {},
   "source": [
    "# 目录\n",
    "WRITING EFFECTIVE USE CASES ...1\n",
    "> 写高效用户故事\n",
    "PROLOGUE ...2\n",
    "> 序言\n",
    "HIGH-LEVEL TABLE OF CONTENTS ...6\n",
    "> 高级目录\n",
    "DETAILED TABLE OF CONTENTS ...7\n",
    "> 详细目录\n",
    "THE ONE PAGE SUMMARY ...12\n",
    "> 一页总结\n",
    "PRELIMINARIES ...13\n",
    "> 准备工作\n",
    "BASE CONCEPTS ...28\n",
    "> 基本概念\n",
    "RELATED CONCEPTS ...83\n",
    "> 相关概念\n",
    "REMINDERS ... 115\n",
    "> 提醒\n",
    "MISTAKES FIXED ... 143\n",
    "> 修正错误\n",
    "ANSWERS TO EXERCISES ... 155\n",
    "> 练习答案\n",
    "WRITING SAMPLES ... 161\n",
    "> 写作样例\n",
    "PROCESS MATTERS ... 185\n",
    "> 过程问题\n",
    "FIVE PROJECT STANDARDS ... 190\n",
    "> 五个项目标准\n",
    "OTHER VOICES ... 197\n",
    "> 其他声音\n",
    "EMAIL DISCUSSIONS ... 198\n",
    "> 邮件讨论\n",
    "RELATED WORK ON USE CASES ... 199\n",
    "> 相关工作\n",
    "GLOSSARY ... 200\n",
    "> 术语表\n",
    "WHERE DO I FIND ANSWERS ON ? ... 203\n",
    "> 我在哪里找到答案？\n"
   ]
  },
  {
   "cell_type": "markdown",
   "metadata": {},
   "source": []
  }
 ],
 "metadata": {
  "language_info": {
   "name": "python"
  }
 },
 "nbformat": 4,
 "nbformat_minor": 2
}
