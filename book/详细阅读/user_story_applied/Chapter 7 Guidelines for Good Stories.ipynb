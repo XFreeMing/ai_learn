{
 "cells": [
  {
   "cell_type": "markdown",
   "metadata": {},
   "source": [
    "Chapter 7: Guidelines for Good Stories  . . . . . . . . . . . . . . . . . . .  75\n",
    "> 好故事的准则\n",
    "    Start with Goal Stories  . . . . . . . . . . . . . . . . . . . . . . .  75\n",
    "> 从目标故事开始\n",
    "    Slice the Cake . . . . . . . . . . . . . . . . . . . . . . . . . . . . . .  75\n",
    "> 切蛋糕\n",
    "    Write Closed Stories . . . . . . . . . . . . . . . . . . . . . . . . .  76\n",
    "> 写封闭故事\n",
    "    Put Constraints on Cards  . . . . . . . . . . . . . . . . . . . . .  77\n",
    "> 在卡片上加上约束\n",
    "    Size the Story to the Horizon. . . . . . . . . . . . . . . . . . .  78\n",
    "> 将故事大小调整到地平线\n",
    "\n",
    "\n",
    "    Some Things Aren’t Stories . . . . . . . . . . . . . . . . . . . .  80\n",
    "> 有些事情不是故事\n",
    "    Include User Roles in the Stories . . . . . . . . . . . . . . . .  80\n",
    "> 在故事中包含用户角色\n",
    "    Write for One User . . . . . . . . . . . . . . . . . . . . . . . . . .  81\n",
    "> 为一个用户写\n",
    "    Write in Active Voice  . . . . . . . . . . . . . . . . . . . . . . . .  81\n",
    "> 用主动语态写\n",
    "    Customer Writes . . . . . . . . . . . . . . . . . . . . . . . . . . . .  81\n",
    "> 客户写\n",
    "    Don’t Number Story Cards . . . . . . . . . . . . . . . . . . . .  82\n",
    "> 不要给故事卡编号\n",
    "    The first time we use story cards many of us are tempted to number them.\n",
    "> 第一次使用故事卡时，我们中的许多人都会被诱惑给它们编号。\n",
    "    The usual reasoning is that this will help keep track of individual cards or add some level of traceability to stories. \n",
    "> 通常的推理是这将有助于跟踪单个卡片或为故事添加一定程度的可追溯性。\n",
    "    For example, when we discover that the story on card 13 is too large we rip up card 13 and replace it with cards 13.1, 13.2, and 13.3.  \n",
    "> 例如，当我们发现卡片13上的故事太大时，我们撕毁卡片13并用卡片13.1、13.2和13.3替换它。\n",
    "    However,  numbering  story  cards  adds  pointless  overhead  to  the  process and leads us into abstract discussions about features that need to be tangible.\n",
    "> 然而，给故事卡编号会给过程增加无谓的开销，并使我们陷入关于需要具体化的功能的抽象讨论。\n",
    "    I’d  rather  talk  about  “the  story  to  add  user  groups”  than  “story  13.”  I  especially don’t want to talk about “story 13.1.”\n",
    "> 我宁愿谈论“添加用户组的故事”而不是“故事13”。我尤其不想谈论“故事13.1”。\n",
    "    If you feel compelled to number story cards, instead try adding a short title to the card and use the title as shorthand for the rest of the story text.\n",
    "> 如果你觉得有必要给故事卡编号，那么尝试给卡片添加一个简短的标题，并使用标题作为其余故事文本的简写。\n",
    "\n",
    "    Don’t Forget the Purpose  . . . . . . . . . . . . . . . . . . . . .  82\n",
    "> 不要忘记目的"
   ]
  },
  {
   "cell_type": "markdown",
   "metadata": {},
   "source": [
    "## Keep the UI Out as Long as Possible . . . . . . . . . . . . .  79\n",
    "> 尽可能长时间保持UI"
   ]
  },
  {
   "cell_type": "markdown",
   "metadata": {},
   "source": [
    "One of the problems that has plagued every approach to software requirements has been mixing requirements with solution specification. \n",
    "> 困扰每种软件需求方法的一个问题是将需求与解决方案规范混在一起。\n",
    "That is, in stating a requirement,  a  solution  is  also  either  explicitly  stated  or  implied.\n",
    "> 也就是说，在陈述需求时，解决方案也被明确陈述或暗示。\n",
    "Most  commonly  this  happens  with  aspects  of  the  user  interface.  \n",
    "> 最常见的情况是用户界面的各个方面。\n",
    "You  want  to  keep  the user  interface  out  of  your  stories  as  long  as  possible.\n",
    "> 你希望尽可能长时间将用户界面排除在你的故事之外。\n",
    "For  example,  consider Story Card 7.2, which is a story from a real system. \n",
    "> 例如，考虑一个真实系统中的故事卡7.2。\n",
    "If this story is to be developed early in the life of the project, it includes too many user interface details.\n",
    "> 如果这个故事在项目的早期开发，它包含了太多的用户界面细节。\n",
    "Readers of this story are told about the print dialog, printer lists, and at least four ways of searching. \n",
    "> 这个故事的读者被告知了打印对话框、打印机列表，以及至少四种搜索方式。\n",
    "Eventually it will become inevitable for user interface details to slip into stories.\n",
    "> 最终，用户界面细节将不可避免地渗入故事中。\n",
    "This happens as the software becomes more and more complete, and stories shift away from being entirely new functionality to being modifications or extensions of existing functionality.\n",
    "> 随着软件变得越来越完整，故事从完全新的功能转变为对现有功能的修改或扩展，这种情况就会发生。\n",
    "For example, consider the story “A user can select dates from a date widget on the search screen.” \n",
    "> 例如，考虑一个故事“用户可以从搜索屏幕上的日期小部件中选择日期”。\n",
    "This story may represent three days of work regardless of whether  it’s  done  at  the  start  or  end  of  the  project.  However,  it  is  not  a  story you’d expect to have at the start of the project before the user interface has even been considered.\n",
    "> 无论是在项目开始还是结束时完成，这个故事可能代表三天的工作。然而，在项目开始之前，你不会期望有这样一个故事，甚至还没有考虑用户界面。"
   ]
  }
 ],
 "metadata": {
  "language_info": {
   "name": "python"
  }
 },
 "nbformat": 4,
 "nbformat_minor": 2
}
