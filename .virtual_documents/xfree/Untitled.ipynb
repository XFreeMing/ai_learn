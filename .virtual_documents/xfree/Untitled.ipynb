import matplotlib.pyplot as plt
import matplotlib.patches as patches
# Re-create the flowchart with updated rendering settings
# Get a font that supports Chinese characters
zh_font_path = '/usr/share/fonts/truetype/arphic/uming.ttc'  # Replace with the path to a Chinese font on your system
zh_font_prop = fm.FontProperties(fname=zh_font_path)

fig, ax = plt.subplots(figsize=(12, 8))

# Set the limits and title
ax.set_xlim(0, 100)
ax.set_ylim(0, 100)
ax.set_title('基于句法分析和权重矩阵优化的自注意力机制文本处理方法流程图', fontsize=15)

# Draw rectangles and arrows for each step in the process
steps = [
    (5, 90, 90, 8, "数据预处理", "对输入文本进行分词、词性标注等预处理"),
    (5, 75, 90, 8, "句法分析", "利用句法分析器解析文本，提取谓语、宾语和定语"),
    (5, 60, 90, 8, "权重矩阵训练", "基于少量样本训练得到谓语、宾语和定语的权重矩阵"),
    (5, 45, 90, 8, "自注意力计算", "结合句法信息和权重矩阵计算注意力分数"),
    (5, 30, 90, 8, "输出结果", "将处理后的文本结果输出")
]

for (x, y, width, height, title, description) in steps:
    rect = patches.FancyBboxPatch((x, y), width, height, boxstyle="round,pad=0.3", linewidth=2, edgecolor='black', facecolor='lightblue')
    ax.add_patch(rect)
    ax.text(x + width / 2, y + height / 2 + 2, title, ha='center', va='center', fontsize=12, fontweight='bold')
    ax.text(x + width / 2, y + height / 2 - 5, description, ha='center', va='center', fontsize=10, wrap=True)

# Draw arrows between steps
arrow_properties = dict(facecolor='black', edgecolor='black', arrowstyle='->', lw=2)
for i in range(len(steps) - 1):
    start_x, start_y = steps[i][0] + steps[i][2] / 2, steps[i][1]
    end_x, end_y = steps[i + 1][0] + steps[i + 1][2] / 2, steps[i + 1][1] + steps[i + 1][3]
    ax.annotate('', xy=(end_x, end_y), xytext=(start_x, start_y), arrowprops=arrow_properties)

# Hide axes
ax.axis('off')

# Display the plot
plt.show()

