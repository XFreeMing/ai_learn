{
 "cells": [
  {
   "cell_type": "code",
   "execution_count": null,
   "metadata": {},
   "outputs": [],
   "source": [
    "# TRAD: Enhancing LLM Agents with Step-Wise Thought Retrieval and Aligned Decision\n",
    "> TRAD: 以分布式记忆增强LLM智能体的决策过程"
   ]
  }
 ],
 "metadata": {
  "language_info": {
   "name": "python"
  }
 },
 "nbformat": 4,
 "nbformat_minor": 2
}
