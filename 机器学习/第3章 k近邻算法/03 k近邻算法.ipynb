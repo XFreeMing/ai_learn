{
 "cells": [
  {
   "cell_type": "code",
   "metadata": {
    "cell_id": "b2c5bff463514069b363bd71abf7ecc7",
    "deepnote_app_coordinates": {
     "h": 5,
     "w": 12,
     "x": 0,
     "y": 25
    },
    "deepnote_cell_type": "code",
    "deepnote_to_be_reexecuted": false,
    "execution_millis": 2468,
    "execution_start": 1654844752462,
    "id": "80C35738EBF84958BE3F53E5FE255365",
    "notebookId": "6088008abb1fc90018674c7e",
    "slideshow": {
     "slide_type": "slide"
    },
    "source_hash": "5e82174e",
    "tags": [],
    "ExecuteTime": {
     "end_time": "2024-06-04T07:38:17.626472Z",
     "start_time": "2024-06-04T07:38:17.164982Z"
    }
   },
   "source": [
    "import matplotlib.pyplot as plt\n",
    "import numpy as np\n",
    "import os\n",
    "\n",
    "# 读入mnist数据集\n",
    "m_x = np.loadtxt('mnist_x', delimiter=' ')\n",
    "m_y = np.loadtxt('mnist_y')\n",
    "\n",
    "# 数据集可视化\n",
    "data = np.reshape(np.array(m_x[0], dtype=int), [28, 28])\n",
    "plt.figure()\n",
    "plt.imshow(data, cmap='gray')\n",
    "\n",
    "# 将数据集分为训练集和测试集\n",
    "ratio = 0.7\n",
    "split = int(len(m_x) * ratio)\n",
    "# 打乱数据\n",
    "np.random.seed(0)\n",
    "idx = np.random.permutation(np.arange(len(m_x)))\n",
    "m_x = m_x[idx]\n",
    "m_y = m_y[idx]\n",
    "x_train, x_test = m_x[:split], m_x[split:]\n",
    "y_train, y_test = m_y[:split], m_y[split:]"
   ],
   "outputs": [
    {
     "data": {
      "text/plain": [
       "<Figure size 640x480 with 1 Axes>"
      ],
      "image/png": "[encoded data removed]"
     },
     "metadata": {},
     "output_type": "display_data"
    }
   ],
   "execution_count": 4
  },
  {
   "cell_type": "code",
   "metadata": {
    "cell_id": "38db53318b904c00a562243f67f05336",
    "deepnote_app_coordinates": {
     "h": 5,
     "w": 12,
     "x": 0,
     "y": 37
    },
    "deepnote_cell_type": "code",
    "deepnote_to_be_reexecuted": false,
    "execution_millis": 1692401,
    "execution_start": 1654844754926,
    "id": "BE53E291D3614827BAD74BA7DF25B349",
    "jupyter": {},
    "notebookId": "6088008abb1fc90018674c7e",
    "slideshow": {
     "slide_type": "slide"
    },
    "source_hash": "88833e83",
    "tags": []
   },
   "source": [
    "def distance(a, b):\n",
    "    return np.sqrt(np.sum(np.square(a - b)))"
   ],
   "outputs": [],
   "execution_count": null
  },
  {
   "cell_type": "code",
   "metadata": {
    "cell_id": "f4f053a9fc384bbd9bc524903512c11a",
    "deepnote_app_coordinates": {
     "h": 5,
     "w": 12,
     "x": 0,
     "y": 49
    },
    "deepnote_cell_type": "code",
    "deepnote_to_be_reexecuted": false,
    "execution_millis": 0,
    "execution_start": 1654844754972,
    "source_hash": "6d6b2800",
    "tags": []
   },
   "source": [
    "class KNN:\n",
    "    def __init__(self, k, label_num):\n",
    "        self.k = k\n",
    "        self.label_num = label_num # 类别的数量\n",
    "\n",
    "    def fit(self, x_train, y_train):\n",
    "        # 在类中保存训练数据\n",
    "        self.x_train = x_train\n",
    "        self.y_train = y_train\n",
    "\n",
    "    def get_knn_indices(self, x):\n",
    "        # 获取距离目标样本点最近的K个样本点的标签\n",
    "        # 计算已知样本的距离\n",
    "        dis = list(map(lambda a: distance(a, x), self.x_train)) \n",
    "        # 按距离从小到大排序，并得到对应的下标\n",
    "        knn_indices = np.argsort(dis) \n",
    "        # 取最近的K个\n",
    "        knn_indices = knn_indices[:self.k] \n",
    "        return knn_indices\n",
    "\n",
    "    def get_label(self, x):\n",
    "        # 对KNN方法的具体实现，观察K个近邻并使用np.argmax获取其中数量最多的类别\n",
    "        knn_indices = self.get_knn_indices(x)\n",
    "        # 类别计数\n",
    "        label_statistic = np.zeros(shape=[self.label_num]) \n",
    "        for index in knn_indices:\n",
    "            label = int(self.y_train[index])\n",
    "            label_statistic[label] += 1\n",
    "        # 返回数量最多的类别\n",
    "        return np.argmax(label_statistic) \n",
    "\n",
    "    def predict(self, x_test): \n",
    "        # 预测样本 test_x 的类别\n",
    "        predicted_test_labels = np.zeros(shape=[len(x_test)], dtype=int)\n",
    "        for i, x in enumerate(x_test):\n",
    "            predicted_test_labels[i] = self.get_label(x)\n",
    "        return predicted_test_labels"
   ],
   "outputs": [],
   "execution_count": null
  },
  {
   "cell_type": "code",
   "metadata": {
    "cell_id": "cb4f5e8625514477b08d35928986d94b",
    "deepnote_app_coordinates": {
     "h": 5,
     "w": 12,
     "x": 0,
     "y": 61
    },
    "deepnote_cell_type": "code",
    "deepnote_to_be_reexecuted": false,
    "execution_millis": 28114,
    "execution_start": 1654844754973,
    "id": "D13773932152465F983300E6C5D264B6",
    "jupyter": {},
    "notebookId": "6088008abb1fc90018674c7e",
    "slideshow": {
     "slide_type": "slide"
    },
    "source_hash": "8d29c35",
    "tags": []
   },
   "source": [
    "for k in range(1, 10):\n",
    "    knn = KNN(k, label_num=10)\n",
    "    knn.fit(x_train, y_train)\n",
    "    predicted_labels = knn.predict(x_test)\n",
    "\n",
    "    accuracy = np.mean(predicted_labels == y_test)\n",
    "    print(f'K的取值为 {k}, 预测准确率为 {accuracy * 100:.1f}%')"
   ],
   "outputs": [],
   "execution_count": null
  },
  {
   "cell_type": "code",
   "metadata": {
    "cell_id": "df4be9fc48ab472fb7790764a3b18a54",
    "deepnote_app_coordinates": {
     "h": 5,
     "w": 12,
     "x": 0,
     "y": 73
    },
    "deepnote_cell_type": "code",
    "deepnote_to_be_reexecuted": false,
    "execution_millis": 454,
    "execution_start": 1654844956025,
    "id": "125FD23B8469427DBB67A171D4231E84",
    "jupyter": {},
    "notebookId": "6088008abb1fc90018674c7e",
    "slideshow": {
     "slide_type": "slide"
    },
    "source_hash": "951928e2",
    "tags": []
   },
   "source": [
    "from sklearn.neighbors import KNeighborsClassifier # sklearn中的KNN分类器\n",
    "from matplotlib.colors import ListedColormap\n",
    "\n",
    "# 读入高斯数据集\n",
    "data = np.loadtxt('gauss.csv', delimiter=',')\n",
    "x_train = data[:, :2]\n",
    "y_train = data[:, 2]\n",
    "print('数据集大小：', len(x_train))\n",
    "\n",
    "# 可视化\n",
    "plt.figure()\n",
    "plt.scatter(x_train[y_train == 0, 0], x_train[y_train == 0, 1], c='blue', marker='o')\n",
    "plt.scatter(x_train[y_train == 1, 0], x_train[y_train == 1, 1], c='red', marker='x')\n",
    "plt.xlabel('X axis')\n",
    "plt.ylabel('Y axis')\n",
    "plt.show()"
   ],
   "outputs": [],
   "execution_count": null
  },
  {
   "cell_type": "code",
   "metadata": {
    "cell_id": "ae5b4373966449e7a6debcf9183e7fa8",
    "deepnote_app_coordinates": {
     "h": 5,
     "w": 12,
     "x": 0,
     "y": 85
    },
    "deepnote_cell_type": "code",
    "deepnote_to_be_reexecuted": false,
    "execution_millis": 13,
    "execution_start": 1654844960093,
    "source_hash": "2934271a",
    "tags": []
   },
   "source": [
    "# 设置步长\n",
    "step = 0.02 \n",
    "# 设置网格边界\n",
    "x_min, x_max = np.min(x_train[:, 0]) - 1, np.max(x_train[:, 0]) + 1 \n",
    "y_min, y_max = np.min(x_train[:, 1]) - 1, np.max(x_train[:, 1]) + 1\n",
    "# 构造网格\n",
    "xx, yy = np.meshgrid(np.arange(x_min, x_max, step), np.arange(y_min, y_max, step))\n",
    "grid_data = np.concatenate([xx.reshape(-1, 1), yy.reshape(-1, 1)], axis=1)"
   ],
   "outputs": [],
   "execution_count": null
  },
  {
   "cell_type": "code",
   "metadata": {
    "cell_id": "aedc320abe60402e8f4466274bb8b186",
    "deepnote_app_coordinates": {
     "h": 5,
     "w": 12,
     "x": 0,
     "y": 97
    },
    "deepnote_cell_type": "code",
    "deepnote_to_be_reexecuted": false,
    "execution_millis": 16991,
    "execution_start": 1654844962968,
    "source_hash": "6d430431",
    "tags": []
   },
   "source": [
    "fig = plt.figure(figsize=(16,4.5))\n",
    "# K值，读者可以自行调整，观察分类结果的变化\n",
    "ks = [1, 3, 10] \n",
    "cmap_light = ListedColormap(['royalblue', 'lightcoral'])\n",
    "\n",
    "for i, k in enumerate(ks):\n",
    "    # 定义KNN分类器\n",
    "    knn = KNeighborsClassifier(n_neighbors=k) \n",
    "    knn.fit(x_train, y_train)\n",
    "    z = knn.predict(grid_data)\n",
    "\n",
    "    # 画出分类结果\n",
    "    ax = fig.add_subplot(1, 3, i + 1)\n",
    "    ax.pcolormesh(xx, yy, z.reshape(xx.shape), cmap=cmap_light, alpha=0.7)\n",
    "    ax.scatter(x_train[y_train == 0, 0], x_train[y_train == 0, 1], c='blue', marker='o')\n",
    "    ax.scatter(x_train[y_train == 1, 0], x_train[y_train == 1, 1], c='red', marker='x')\n",
    "\n",
    "    ax.set_xlabel('X axis')\n",
    "    ax.set_ylabel('Y axis')\n",
    "    ax.set_title(f'K = {k}')\n",
    "plt.show()"
   ],
   "outputs": [],
   "execution_count": null
  },
  {
   "cell_type": "code",
   "metadata": {
    "cell_id": "6db2bd5a584c442a948158772b146fe0",
    "deepnote_app_coordinates": {
     "h": 5,
     "w": 12,
     "x": 0,
     "y": 115
    },
    "deepnote_cell_type": "code",
    "deepnote_to_be_reexecuted": false,
    "execution_millis": 5659,
    "execution_start": 1654845073431,
    "source_hash": "9cea6fe3",
    "tags": []
   },
   "source": [
    "!pip install scikit-image\n",
    "from skimage import io # 图像输入输出\n",
    "from skimage.color import rgb2lab, lab2rgb # 图像通道转换\n",
    "from sklearn.neighbors import KNeighborsRegressor # KNN 回归器\n",
    "import os\n",
    "\n",
    "path = 'style_transfer'"
   ],
   "outputs": [],
   "execution_count": null
  },
  {
   "cell_type": "code",
   "metadata": {
    "cell_id": "4b3856bf9bc448d2b4f8a66a408ca8ed",
    "deepnote_app_coordinates": {
     "h": 5,
     "w": 12,
     "x": 0,
     "y": 127
    },
    "deepnote_cell_type": "code",
    "deepnote_to_be_reexecuted": false,
    "execution_millis": 1077,
    "execution_start": 1654845083248,
    "source_hash": "5076fc80",
    "tags": []
   },
   "source": [
    "data_dir = os.path.join(path, 'vangogh')\n",
    "fig = plt.figure(figsize=(16, 5))\n",
    "for i, file in enumerate(np.sort(os.listdir(data_dir))[:3]):\n",
    "    img = io.imread(os.path.join(data_dir, file))\n",
    "    ax = fig.add_subplot(1, 3, i + 1)\n",
    "    ax.imshow(img)\n",
    "    ax.set_xlabel('X axis')\n",
    "    ax.set_ylabel('Y axis')\n",
    "    ax.set_title(file)\n",
    "plt.show()"
   ],
   "outputs": [],
   "execution_count": null
  },
  {
   "cell_type": "code",
   "metadata": {
    "cell_id": "97b865b9269f475493cb968590b8b67a",
    "deepnote_app_coordinates": {
     "h": 5,
     "w": 12,
     "x": 0,
     "y": 145
    },
    "deepnote_cell_type": "code",
    "deepnote_to_be_reexecuted": false,
    "execution_millis": 11,
    "execution_start": 1654845090561,
    "source_hash": "45b4aede",
    "tags": []
   },
   "source": [
    "# block_size表示向外扩展的层数，扩展1层即3*3\n",
    "block_size = 1 \n",
    "\n",
    "def read_style_image(file_name, size=block_size):\n",
    "    # 读入风格图像, 得到映射 X->Y\n",
    "    # 其中X储存3*3像素格的灰度值，Y储存中心像素格的色彩值\n",
    "    # 读取图像文件，设图像宽为W，高为H，得到W*H*3的RGB矩阵\n",
    "    img = io.imread(file_name) \n",
    "    fig = plt.figure()\n",
    "    plt.imshow(img)\n",
    "    plt.xlabel('X axis')\n",
    "    plt.ylabel('Y axis')\n",
    "    plt.show()\n",
    "\n",
    "    # 将RGB矩阵转换成LAB表示法的矩阵，大小仍然是W*H*3，三维分别是L、A、B\n",
    "    img = rgb2lab(img) \n",
    "    # 取出图像的宽度和高度\n",
    "    w, h = img.shape[:2] \n",
    "    \n",
    "    X = []\n",
    "    Y = []\n",
    "    # 枚举全部可能的中心点\n",
    "    for x in range(size, w - size): \n",
    "        for y in range(size, h - size):\n",
    "            # 保存所有窗口\n",
    "            X.append(img[x - size: x + size + 1, \\\n",
    "                y - size: y + size + 1, 0].flatten())\n",
    "            # 保存窗口对应的色彩值a和b\n",
    "            Y.append(img[x, y, 1:])\n",
    "    return X, Y"
   ],
   "outputs": [],
   "execution_count": null
  },
  {
   "cell_type": "code",
   "metadata": {
    "cell_id": "b724af45db6a44baa9c2ca6297090bdb",
    "deepnote_app_coordinates": {
     "h": 5,
     "w": 12,
     "x": 0,
     "y": 157
    },
    "deepnote_cell_type": "code",
    "deepnote_to_be_reexecuted": false,
    "execution_millis": 2910,
    "execution_start": 1654845095547,
    "source_hash": "f0fc05d0",
    "tags": []
   },
   "source": [
    "X, Y = read_style_image(os.path.join(path, 'style.jpg')) # 建立映射\n",
    "\n",
    "# weights='distance'表示邻居的权重与其到样本的距离成反比\n",
    "knn = KNeighborsRegressor(n_neighbors=4, weights='distance')\n",
    "knn.fit(X, Y)"
   ],
   "outputs": [],
   "execution_count": null
  },
  {
   "cell_type": "code",
   "metadata": {
    "cell_id": "93553f88535349128a123bf1f5f4b141",
    "deepnote_app_coordinates": {
     "h": 5,
     "w": 12,
     "x": 0,
     "y": 169
    },
    "deepnote_cell_type": "code",
    "deepnote_to_be_reexecuted": false,
    "execution_millis": 4,
    "execution_start": 1654846596706,
    "source_hash": "db02ee82",
    "tags": []
   },
   "source": [
    "def rebuild(img, size=block_size):\n",
    "    # 打印内容图像\n",
    "    fig = plt.figure()\n",
    "    plt.imshow(img)\n",
    "    plt.xlabel('X axis')\n",
    "    plt.ylabel('Y axis')\n",
    "    plt.show()\n",
    "    \n",
    "    # 将内容图像转为LAB表示\n",
    "    img = rgb2lab(img) \n",
    "    w, h = img.shape[:2]\n",
    "    \n",
    "    # 初始化输出图像对应的矩阵\n",
    "    photo = np.zeros([w, h, 3])\n",
    "    # 枚举内容图像的中心点，保存所有窗口\n",
    "    print('Constructing window...')\n",
    "    X = []\n",
    "    for x in range(size, w - size):\n",
    "        for y in range(size, h - size):\n",
    "            # 得到中心点对应的窗口\n",
    "            window = img[x - size: x + size + 1, \\\n",
    "                y - size: y + size + 1, 0].flatten()\n",
    "            X.append(window)\n",
    "    X = np.array(X)\n",
    "\n",
    "    # 用KNN回归器预测颜色\n",
    "    print('Predicting...')\n",
    "    pred_ab = knn.predict(X).reshape(w - 2 * size, h - 2 * size, -1)\n",
    "    # 设置输出图像\n",
    "    photo[:, :, 0] = img[:, :, 0]\n",
    "    photo[size: w - size, size: h - size, 1:] = pred_ab\n",
    "    \n",
    "    # 由于最外面size层无法构造窗口，简单起见，我们直接把这些像素裁剪掉\n",
    "    photo = photo[size: w - size, size: h - size, :]\n",
    "    return photo"
   ],
   "outputs": [],
   "execution_count": null
  },
  {
   "cell_type": "code",
   "metadata": {
    "cell_id": "44d7a344abc6471fa345a569c27f1f32",
    "deepnote_app_coordinates": {
     "h": 5,
     "w": 12,
     "x": 0,
     "y": 181
    },
    "deepnote_cell_type": "code",
    "deepnote_to_be_reexecuted": false,
    "execution_millis": 22412,
    "execution_start": 1654846599290,
    "source_hash": "1509c3fc",
    "tags": []
   },
   "source": [
    "content = io.imread(os.path.join(path, 'input.jpg'))\n",
    "new_photo = rebuild(content)\n",
    "# 为了展示图像，我们将其再转换为RGB表示\n",
    "new_photo = lab2rgb(new_photo)\n",
    "\n",
    "fig = plt.figure()\n",
    "plt.imshow(new_photo)\n",
    "plt.xlabel('X axis')\n",
    "plt.ylabel('Y axis')\n",
    "plt.show()"
   ],
   "outputs": [],
   "execution_count": null
  }
 ],
 "metadata": {
  "deepnote": {},
  "deepnote_app_layout": "article",
  "deepnote_execution_queue": [],
  "deepnote_notebook_id": "2390920cabc347db8ac31092846677e0",
  "kernelspec": {
   "display_name": "Python 3 (ipykernel)",
   "language": "python",
   "name": "python3"
  },
  "language_info": {
   "codemirror_mode": {
    "name": "ipython",
    "version": 3
   },
   "file_extension": ".py",
   "mimetype": "text/x-python",
   "name": "python",
   "nbconvert_exporter": "python",
   "pygments_lexer": "ipython3",
   "version": "3.10.14"
  }
 },
 "nbformat": 4,
 "nbformat_minor": 4
}
