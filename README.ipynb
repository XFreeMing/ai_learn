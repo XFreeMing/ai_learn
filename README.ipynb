{
 "cells": [
  {
   "cell_type": "markdown",
   "id": "cbcc1822-7535-4c89-a78b-0dd3a917b487",
   "metadata": {},
   "source": [
    "# AI学习资源\n",
    "## 深度学习\n",
    "- [动手学习深度学习](https://courses.d2l.ai/zh-v2/)"
   ]
  }
 ],
 "metadata": {
  "kernelspec": {
   "display_name": "Python 3 (ipykernel)",
   "language": "python",
   "name": "python3"
  }
 },
 "nbformat": 4,
 "nbformat_minor": 5
}
